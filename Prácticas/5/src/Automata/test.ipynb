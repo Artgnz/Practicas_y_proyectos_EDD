{
 "cells": [
  {
   "cell_type": "code",
   "execution_count": 2,
   "metadata": {},
   "outputs": [],
   "source": [
    "# Si color es 1, el color sera rojo\n",
    "# Si color es 2, el color sera verde\n",
    "# Si color es 3, el color sera azul\n",
    "# Si color es 4, el color sera amarillo\n",
    "# Si color es 5, el color sera negro\n",
    "color = \"\"\n",
    "def colores():\n",
    "    opcion = input()\n",
    "    if(opcion ==1):\n",
    "        color = \n",
    "colores()"
   ]
  }
 ],
 "metadata": {
  "interpreter": {
   "hash": "2db524e06e9f5f4ffedc911c917cb75e12dbc923643829bf417064a77eb14d37"
  },
  "kernelspec": {
   "display_name": "Python 3.8.3 64-bit",
   "language": "python",
   "name": "python3"
  },
  "language_info": {
   "codemirror_mode": {
    "name": "ipython",
    "version": 3
   },
   "file_extension": ".py",
   "mimetype": "text/x-python",
   "name": "python",
   "nbconvert_exporter": "python",
   "pygments_lexer": "ipython3",
   "version": "3.8.3"
  },
  "orig_nbformat": 4
 },
 "nbformat": 4,
 "nbformat_minor": 2
}
